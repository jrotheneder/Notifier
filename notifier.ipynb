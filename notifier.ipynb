{
 "cells": [
  {
   "cell_type": "code",
   "execution_count": 1,
   "metadata": {},
   "outputs": [
    {
     "name": "stderr",
     "output_type": "stream",
     "text": [
      "/home/ubuntu/notifier_venv/lib/python3.12/site-packages/telegram/utils/request.py:54: UserWarning: python-telegram-bot wasn't properly installed. Please refer to README.rst on how to properly install.\n",
      "  warnings.warn(\n",
      "/home/ubuntu/Notifier/notifier_bot.py:144: SyntaxWarning: invalid escape sequence '\\('\n",
      "  + \" item\\(s\\)\\n\\n\" + \"\\n\\n\".join([escape_markdown(str(item), 2) for \\\n"
     ]
    },
    {
     "ename": "ModuleNotFoundError",
     "evalue": "No module named 'urllib3.contrib.appengine'",
     "output_type": "error",
     "traceback": [
      "\u001b[0;31m---------------------------------------------------------------------------\u001b[0m",
      "\u001b[0;31mModuleNotFoundError\u001b[0m                       Traceback (most recent call last)",
      "File \u001b[0;32m~/notifier_venv/lib/python3.12/site-packages/telegram/utils/request.py:36\u001b[0m\n\u001b[1;32m     35\u001b[0m \u001b[38;5;28;01mtry\u001b[39;00m:\n\u001b[0;32m---> 36\u001b[0m     \u001b[38;5;28;01mimport\u001b[39;00m \u001b[38;5;21;01mtelegram\u001b[39;00m\u001b[38;5;21;01m.\u001b[39;00m\u001b[38;5;21;01mvendor\u001b[39;00m\u001b[38;5;21;01m.\u001b[39;00m\u001b[38;5;21;01mptb_urllib3\u001b[39;00m\u001b[38;5;21;01m.\u001b[39;00m\u001b[38;5;21;01murllib3\u001b[39;00m \u001b[38;5;28;01mas\u001b[39;00m \u001b[38;5;21;01murllib3\u001b[39;00m\n\u001b[1;32m     37\u001b[0m     \u001b[38;5;28;01mimport\u001b[39;00m \u001b[38;5;21;01mtelegram\u001b[39;00m\u001b[38;5;21;01m.\u001b[39;00m\u001b[38;5;21;01mvendor\u001b[39;00m\u001b[38;5;21;01m.\u001b[39;00m\u001b[38;5;21;01mptb_urllib3\u001b[39;00m\u001b[38;5;21;01m.\u001b[39;00m\u001b[38;5;21;01murllib3\u001b[39;00m\u001b[38;5;21;01m.\u001b[39;00m\u001b[38;5;21;01mcontrib\u001b[39;00m\u001b[38;5;21;01m.\u001b[39;00m\u001b[38;5;21;01mappengine\u001b[39;00m \u001b[38;5;28;01mas\u001b[39;00m \u001b[38;5;21;01mappengine\u001b[39;00m\n",
      "File \u001b[0;32m~/notifier_venv/lib/python3.12/site-packages/telegram/vendor/ptb_urllib3/urllib3/__init__.py:7\u001b[0m\n\u001b[1;32m      5\u001b[0m \u001b[38;5;28;01mimport\u001b[39;00m \u001b[38;5;21;01mwarnings\u001b[39;00m\n\u001b[0;32m----> 7\u001b[0m \u001b[38;5;28;01mfrom\u001b[39;00m \u001b[38;5;21;01m.\u001b[39;00m\u001b[38;5;21;01mconnectionpool\u001b[39;00m \u001b[38;5;28;01mimport\u001b[39;00m (\n\u001b[1;32m      8\u001b[0m     HTTPConnectionPool,\n\u001b[1;32m      9\u001b[0m     HTTPSConnectionPool,\n\u001b[1;32m     10\u001b[0m     connection_from_url\n\u001b[1;32m     11\u001b[0m )\n\u001b[1;32m     13\u001b[0m \u001b[38;5;28;01mfrom\u001b[39;00m \u001b[38;5;21;01m.\u001b[39;00m \u001b[38;5;28;01mimport\u001b[39;00m exceptions\n",
      "File \u001b[0;32m~/notifier_venv/lib/python3.12/site-packages/telegram/vendor/ptb_urllib3/urllib3/connectionpool.py:11\u001b[0m\n\u001b[1;32m      8\u001b[0m \u001b[38;5;28;01mimport\u001b[39;00m \u001b[38;5;21;01msocket\u001b[39;00m\n\u001b[0;32m---> 11\u001b[0m \u001b[38;5;28;01mfrom\u001b[39;00m \u001b[38;5;21;01m.\u001b[39;00m\u001b[38;5;21;01mexceptions\u001b[39;00m \u001b[38;5;28;01mimport\u001b[39;00m (\n\u001b[1;32m     12\u001b[0m     ClosedPoolError,\n\u001b[1;32m     13\u001b[0m     ProtocolError,\n\u001b[1;32m     14\u001b[0m     EmptyPoolError,\n\u001b[1;32m     15\u001b[0m     HeaderParsingError,\n\u001b[1;32m     16\u001b[0m     HostChangedError,\n\u001b[1;32m     17\u001b[0m     LocationValueError,\n\u001b[1;32m     18\u001b[0m     MaxRetryError,\n\u001b[1;32m     19\u001b[0m     ProxyError,\n\u001b[1;32m     20\u001b[0m     ReadTimeoutError,\n\u001b[1;32m     21\u001b[0m     SSLError,\n\u001b[1;32m     22\u001b[0m     \u001b[38;5;167;01mTimeoutError\u001b[39;00m,\n\u001b[1;32m     23\u001b[0m     InsecureRequestWarning,\n\u001b[1;32m     24\u001b[0m     NewConnectionError,\n\u001b[1;32m     25\u001b[0m     ConnectTimeoutError,\n\u001b[1;32m     26\u001b[0m )\n\u001b[1;32m     27\u001b[0m \u001b[38;5;28;01mfrom\u001b[39;00m \u001b[38;5;21;01m.\u001b[39;00m\u001b[38;5;21;01mpackages\u001b[39;00m\u001b[38;5;21;01m.\u001b[39;00m\u001b[38;5;21;01mssl_match_hostname\u001b[39;00m \u001b[38;5;28;01mimport\u001b[39;00m CertificateError\n",
      "File \u001b[0;32m~/notifier_venv/lib/python3.12/site-packages/telegram/vendor/ptb_urllib3/urllib3/exceptions.py:2\u001b[0m\n\u001b[1;32m      1\u001b[0m \u001b[38;5;28;01mfrom\u001b[39;00m \u001b[38;5;21;01m__future__\u001b[39;00m \u001b[38;5;28;01mimport\u001b[39;00m absolute_import\n\u001b[0;32m----> 2\u001b[0m \u001b[38;5;28;01mfrom\u001b[39;00m \u001b[38;5;21;01m.\u001b[39;00m\u001b[38;5;21;01mpackages\u001b[39;00m\u001b[38;5;21;01m.\u001b[39;00m\u001b[38;5;21;01msix\u001b[39;00m\u001b[38;5;21;01m.\u001b[39;00m\u001b[38;5;21;01mmoves\u001b[39;00m\u001b[38;5;21;01m.\u001b[39;00m\u001b[38;5;21;01mhttp_client\u001b[39;00m \u001b[38;5;28;01mimport\u001b[39;00m (\n\u001b[1;32m      3\u001b[0m     IncompleteRead \u001b[38;5;28;01mas\u001b[39;00m httplib_IncompleteRead\n\u001b[1;32m      4\u001b[0m )\n\u001b[1;32m      5\u001b[0m \u001b[38;5;66;03m# Base Exceptions\u001b[39;00m\n",
      "\u001b[0;31mModuleNotFoundError\u001b[0m: No module named 'telegram.vendor.ptb_urllib3.urllib3.packages.six.moves'",
      "\nDuring handling of the above exception, another exception occurred:\n",
      "\u001b[0;31mModuleNotFoundError\u001b[0m                       Traceback (most recent call last)",
      "Cell \u001b[0;32mIn[1], line 2\u001b[0m\n\u001b[1;32m      1\u001b[0m \u001b[38;5;66;03m# %load notifier_main.py\u001b[39;00m\n\u001b[0;32m----> 2\u001b[0m \u001b[38;5;28;01mfrom\u001b[39;00m \u001b[38;5;21;01mnotifier_bot\u001b[39;00m \u001b[38;5;28;01mimport\u001b[39;00m \u001b[38;5;241m*\u001b[39m\n\u001b[1;32m      4\u001b[0m \u001b[38;5;28;01mdef\u001b[39;00m \u001b[38;5;21mmain\u001b[39m():\n\u001b[1;32m      5\u001b[0m \n\u001b[1;32m      6\u001b[0m     \u001b[38;5;66;03m# The bot's internal state is saved between restarts, allowing to preseve \u001b[39;00m\n\u001b[1;32m      7\u001b[0m     \u001b[38;5;66;03m# items saved by users \u001b[39;00m\n\u001b[1;32m      8\u001b[0m     \u001b[38;5;28;01mglobal\u001b[39;00m persistence \n",
      "File \u001b[0;32m~/Notifier/notifier_bot.py:17\u001b[0m\n\u001b[1;32m     13\u001b[0m \u001b[38;5;28;01mfrom\u001b[39;00m \u001b[38;5;21;01msrc\u001b[39;00m\u001b[38;5;21;01m.\u001b[39;00m\u001b[38;5;21;01mcos_product\u001b[39;00m \u001b[38;5;28;01mimport\u001b[39;00m \u001b[38;5;241m*\u001b[39m\n\u001b[1;32m     14\u001b[0m \u001b[38;5;28;01mfrom\u001b[39;00m \u001b[38;5;21;01msrc\u001b[39;00m\u001b[38;5;21;01m.\u001b[39;00m\u001b[38;5;21;01mhm_product\u001b[39;00m \u001b[38;5;28;01mimport\u001b[39;00m \u001b[38;5;241m*\u001b[39m\n\u001b[0;32m---> 17\u001b[0m \u001b[38;5;28;01mfrom\u001b[39;00m \u001b[38;5;21;01mtelegram\u001b[39;00m\u001b[38;5;21;01m.\u001b[39;00m\u001b[38;5;21;01mext\u001b[39;00m \u001b[38;5;28;01mimport\u001b[39;00m Updater, CommandHandler, MessageHandler, Filters, PicklePersistence\n\u001b[1;32m     18\u001b[0m \u001b[38;5;28;01mfrom\u001b[39;00m \u001b[38;5;21;01mtelegram\u001b[39;00m \u001b[38;5;28;01mimport\u001b[39;00m InputMediaPhoto, ParseMode\n\u001b[1;32m     19\u001b[0m \u001b[38;5;28;01mfrom\u001b[39;00m \u001b[38;5;21;01mtelegram\u001b[39;00m\u001b[38;5;21;01m.\u001b[39;00m\u001b[38;5;21;01mutils\u001b[39;00m\u001b[38;5;21;01m.\u001b[39;00m\u001b[38;5;21;01mhelpers\u001b[39;00m \u001b[38;5;28;01mimport\u001b[39;00m escape_markdown\n",
      "File \u001b[0;32m~/notifier_venv/lib/python3.12/site-packages/telegram/__init__.py:174\u001b[0m\n\u001b[1;32m    156\u001b[0m \u001b[38;5;28;01mfrom\u001b[39;00m \u001b[38;5;21;01m.\u001b[39;00m\u001b[38;5;21;01mpassport\u001b[39;00m\u001b[38;5;21;01m.\u001b[39;00m\u001b[38;5;21;01mcredentials\u001b[39;00m \u001b[38;5;28;01mimport\u001b[39;00m (\n\u001b[1;32m    157\u001b[0m     Credentials,\n\u001b[1;32m    158\u001b[0m     DataCredentials,\n\u001b[0;32m   (...)\u001b[0m\n\u001b[1;32m    162\u001b[0m     TelegramDecryptionError,\n\u001b[1;32m    163\u001b[0m )\n\u001b[1;32m    164\u001b[0m \u001b[38;5;28;01mfrom\u001b[39;00m \u001b[38;5;21;01m.\u001b[39;00m\u001b[38;5;21;01mbotcommandscope\u001b[39;00m \u001b[38;5;28;01mimport\u001b[39;00m (\n\u001b[1;32m    165\u001b[0m     BotCommandScope,\n\u001b[1;32m    166\u001b[0m     BotCommandScopeDefault,\n\u001b[0;32m   (...)\u001b[0m\n\u001b[1;32m    172\u001b[0m     BotCommandScopeChatMember,\n\u001b[1;32m    173\u001b[0m )\n\u001b[0;32m--> 174\u001b[0m \u001b[38;5;28;01mfrom\u001b[39;00m \u001b[38;5;21;01m.\u001b[39;00m\u001b[38;5;21;01mbot\u001b[39;00m \u001b[38;5;28;01mimport\u001b[39;00m Bot\n\u001b[1;32m    175\u001b[0m \u001b[38;5;28;01mfrom\u001b[39;00m \u001b[38;5;21;01m.\u001b[39;00m\u001b[38;5;21;01mversion\u001b[39;00m \u001b[38;5;28;01mimport\u001b[39;00m __version__, bot_api_version  \u001b[38;5;66;03m# noqa: F401\u001b[39;00m\n\u001b[1;32m    177\u001b[0m __author__ \u001b[38;5;241m=\u001b[39m \u001b[38;5;124m'\u001b[39m\u001b[38;5;124mdevs@python-telegram-bot.org\u001b[39m\u001b[38;5;124m'\u001b[39m\n",
      "File \u001b[0;32m~/notifier_venv/lib/python3.12/site-packages/telegram/bot.py:103\u001b[0m\n\u001b[1;32m     94\u001b[0m \u001b[38;5;28;01mfrom\u001b[39;00m \u001b[38;5;21;01mtelegram\u001b[39;00m\u001b[38;5;21;01m.\u001b[39;00m\u001b[38;5;21;01mutils\u001b[39;00m\u001b[38;5;21;01m.\u001b[39;00m\u001b[38;5;21;01mdeprecate\u001b[39;00m \u001b[38;5;28;01mimport\u001b[39;00m TelegramDeprecationWarning\n\u001b[1;32m     95\u001b[0m \u001b[38;5;28;01mfrom\u001b[39;00m \u001b[38;5;21;01mtelegram\u001b[39;00m\u001b[38;5;21;01m.\u001b[39;00m\u001b[38;5;21;01mutils\u001b[39;00m\u001b[38;5;21;01m.\u001b[39;00m\u001b[38;5;21;01mhelpers\u001b[39;00m \u001b[38;5;28;01mimport\u001b[39;00m (\n\u001b[1;32m     96\u001b[0m     DEFAULT_NONE,\n\u001b[1;32m     97\u001b[0m     DefaultValue,\n\u001b[0;32m   (...)\u001b[0m\n\u001b[1;32m    101\u001b[0m     DEFAULT_20,\n\u001b[1;32m    102\u001b[0m )\n\u001b[0;32m--> 103\u001b[0m \u001b[38;5;28;01mfrom\u001b[39;00m \u001b[38;5;21;01mtelegram\u001b[39;00m\u001b[38;5;21;01m.\u001b[39;00m\u001b[38;5;21;01mutils\u001b[39;00m\u001b[38;5;21;01m.\u001b[39;00m\u001b[38;5;21;01mrequest\u001b[39;00m \u001b[38;5;28;01mimport\u001b[39;00m Request\n\u001b[1;32m    104\u001b[0m \u001b[38;5;28;01mfrom\u001b[39;00m \u001b[38;5;21;01mtelegram\u001b[39;00m\u001b[38;5;21;01m.\u001b[39;00m\u001b[38;5;21;01mutils\u001b[39;00m\u001b[38;5;21;01m.\u001b[39;00m\u001b[38;5;21;01mtypes\u001b[39;00m \u001b[38;5;28;01mimport\u001b[39;00m FileInput, JSONDict, ODVInput, DVInput\n\u001b[1;32m    106\u001b[0m \u001b[38;5;28;01mif\u001b[39;00m TYPE_CHECKING:\n",
      "File \u001b[0;32m~/notifier_venv/lib/python3.12/site-packages/telegram/utils/request.py:44\u001b[0m\n\u001b[1;32m     42\u001b[0m \u001b[38;5;28;01mtry\u001b[39;00m:\n\u001b[1;32m     43\u001b[0m     \u001b[38;5;28;01mimport\u001b[39;00m \u001b[38;5;21;01murllib3\u001b[39;00m  \u001b[38;5;66;03m# type: ignore[no-redef]\u001b[39;00m\n\u001b[0;32m---> 44\u001b[0m     \u001b[38;5;28;01mimport\u001b[39;00m \u001b[38;5;21;01murllib3\u001b[39;00m\u001b[38;5;21;01m.\u001b[39;00m\u001b[38;5;21;01mcontrib\u001b[39;00m\u001b[38;5;21;01m.\u001b[39;00m\u001b[38;5;21;01mappengine\u001b[39;00m \u001b[38;5;28;01mas\u001b[39;00m \u001b[38;5;21;01mappengine\u001b[39;00m  \u001b[38;5;66;03m# type: ignore[no-redef]\u001b[39;00m\n\u001b[1;32m     45\u001b[0m     \u001b[38;5;28;01mfrom\u001b[39;00m \u001b[38;5;21;01murllib3\u001b[39;00m\u001b[38;5;21;01m.\u001b[39;00m\u001b[38;5;21;01mconnection\u001b[39;00m \u001b[38;5;28;01mimport\u001b[39;00m HTTPConnection  \u001b[38;5;66;03m# type: ignore[no-redef]\u001b[39;00m\n\u001b[1;32m     46\u001b[0m     \u001b[38;5;28;01mfrom\u001b[39;00m \u001b[38;5;21;01murllib3\u001b[39;00m\u001b[38;5;21;01m.\u001b[39;00m\u001b[38;5;21;01mfields\u001b[39;00m \u001b[38;5;28;01mimport\u001b[39;00m RequestField  \u001b[38;5;66;03m# type: ignore[no-redef]\u001b[39;00m\n",
      "\u001b[0;31mModuleNotFoundError\u001b[0m: No module named 'urllib3.contrib.appengine'"
     ]
    }
   ],
   "source": [
    "# %load notifier_main.py\n",
    "from notifier_bot import *\n",
    "\n",
    "def main():\n",
    "\n",
    "    # The bot's internal state is saved between restarts, allowing to preseve \n",
    "    # items saved by users \n",
    "    global persistence \n",
    "    persistence = PicklePersistence(filename =\\\n",
    "            '/home/ubuntu/Notifier/persistence.dat')\n",
    "\n",
    "    # The bot's token (see the telegram-bot documentation) is stored in \n",
    "    # a configuration file\n",
    "    with open('config/bot_token.txt', 'r') as file:\n",
    "        bot_token = file.read().replace('\\n', '')\n",
    "\n",
    "    # Users need to be whitelisted in order to access the bot's functions; \n",
    "    # this works by loading a list of telegram user handles from a textfile\n",
    "    with open('config/allowed_users.txt', 'r') as file:\n",
    "        allowed_users = [line.rstrip() for line in file]\n",
    "    user_filter = Filters.user(username = allowed_users)\n",
    "\n",
    "    global updater\n",
    "    updater = Updater(token=bot_token, use_context=True, \n",
    "                persistence=persistence)\n",
    "\n",
    "    dispatcher = updater.dispatcher\n",
    "    job_queue = updater.job_queue\n",
    "\n",
    "    addHandler = CommandHandler('add', add, user_filter)\n",
    "    removeHandler = CommandHandler('remove', remove)\n",
    "    listTrackedHandler = CommandHandler('list', list_tracked_items)\n",
    "    HelpHandler = CommandHandler('help', help)\n",
    "    MsgHandler = CommandHandler('msg', msg)\n",
    "    StartHandler = CommandHandler('start', help)\n",
    "    EmptyHandler = CommandHandler('empty', empty)\n",
    "    ExplUpdateHandler = CommandHandler('update', manual_update)\n",
    "    StartRegUpdateHandler = CommandHandler('monitor', \n",
    "            start_regular_update, pass_job_queue=True)\n",
    "    StopRegUpdateHandler = CommandHandler('stop_monitor', \n",
    "            stop_regular_update, pass_job_queue=True)\n",
    "    BackupHandler = CommandHandler('backup', backup_to_json, user_filter)\n",
    "    RestoreHandler = CommandHandler('restore', restore_from_online_json, user_filter)\n",
    "    logHandler = CommandHandler('logs', send_logs)\n",
    "\n",
    "    infoHandler = CommandHandler('info', command_item_info)\n",
    "    InfoHandler = CommandHandler('Info', command_item_info)\n",
    "    defaultHandler = MessageHandler(Filters.text & ~Filters.command, default_item_info)\n",
    "\n",
    "    dispatcher.add_handler(addHandler)\n",
    "    dispatcher.add_handler(removeHandler)\n",
    "    dispatcher.add_handler(listTrackedHandler)\n",
    "    dispatcher.add_handler(HelpHandler)\n",
    "    dispatcher.add_handler(MsgHandler)\n",
    "    dispatcher.add_handler(StartHandler)\n",
    "    dispatcher.add_handler(ExplUpdateHandler)\n",
    "    dispatcher.add_handler(EmptyHandler)\n",
    "    dispatcher.add_handler(StartRegUpdateHandler)\n",
    "    dispatcher.add_handler(StopRegUpdateHandler)\n",
    "    dispatcher.add_handler(BackupHandler)\n",
    "    dispatcher.add_handler(RestoreHandler)\n",
    "    dispatcher.add_handler(logHandler)\n",
    "    dispatcher.add_handler(infoHandler)\n",
    "    dispatcher.add_handler(InfoHandler)\n",
    "    dispatcher.add_handler(defaultHandler)\n",
    "\n",
    "    updater.start_polling()\n",
    "\n",
    "    logging.info(\"Started bot \" + str(datetime.now()))\n",
    "\n",
    "def end():\n",
    "    persistence.flush()\n",
    "    updater.stop()\n",
    "\n",
    "if __name__ == \"__main__\":\n",
    "    main()\n"
   ]
  },
  {
   "cell_type": "code",
   "execution_count": 3,
   "metadata": {},
   "outputs": [],
   "source": [
    "end()"
   ]
  },
  {
   "cell_type": "code",
   "execution_count": null,
   "metadata": {},
   "outputs": [],
   "source": []
  }
 ],
 "metadata": {
  "kernelspec": {
   "display_name": "notifier_venv",
   "language": "python",
   "name": "notifier_venv"
  },
  "language_info": {
   "codemirror_mode": {
    "name": "ipython",
    "version": 3
   },
   "file_extension": ".py",
   "mimetype": "text/x-python",
   "name": "python",
   "nbconvert_exporter": "python",
   "pygments_lexer": "ipython3",
   "version": "3.12.3"
  }
 },
 "nbformat": 4,
 "nbformat_minor": 4
}
