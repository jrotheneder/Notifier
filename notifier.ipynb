{
 "cells": [
  {
   "cell_type": "code",
   "execution_count": 3,
   "metadata": {},
   "outputs": [
    {
     "name": "stderr",
     "output_type": "stream",
     "text": [
      "/home/johannes/Dropbox/Misc/ProgrammingProjects/Notifier/notifier_bot.py:151: SyntaxWarning: invalid escape sequence '\\('\n",
      "  splits = split_messages(msg)\n",
      "/home/johannes/Dropbox/Misc/ProgrammingProjects/Notifier/notifier_bot.py:151: SyntaxWarning: invalid escape sequence '\\('\n",
      "  + \" item\\(s\\)\\n\\n\" + \"\\n\\n\".join([escape_markdown(str(item), 2) for \\\n"
     ]
    },
    {
     "ename": "ImportError",
     "evalue": "cannot import name 'Forbidden' from 'telegram.error' (/home/johannes/.local/lib/python3.12/site-packages/telegram/error.py)",
     "output_type": "error",
     "traceback": [
      "\u001b[0;31m---------------------------------------------------------------------------\u001b[0m",
      "\u001b[0;31mImportError\u001b[0m                               Traceback (most recent call last)",
      "Cell \u001b[0;32mIn[3], line 2\u001b[0m\n\u001b[1;32m      1\u001b[0m \u001b[38;5;66;03m# %load notifier_main.py\u001b[39;00m\n\u001b[0;32m----> 2\u001b[0m \u001b[38;5;28;01mfrom\u001b[39;00m \u001b[38;5;21;01mnotifier_bot\u001b[39;00m \u001b[38;5;28;01mimport\u001b[39;00m \u001b[38;5;241m*\u001b[39m\n\u001b[1;32m      4\u001b[0m \u001b[38;5;28;01mdef\u001b[39;00m \u001b[38;5;21mmain\u001b[39m():\n\u001b[1;32m      5\u001b[0m \n\u001b[1;32m      6\u001b[0m     \u001b[38;5;66;03m# The bot's internal state is saved between restarts, allowing to preseve \u001b[39;00m\n\u001b[1;32m      7\u001b[0m     \u001b[38;5;66;03m# items saved by users \u001b[39;00m\n\u001b[1;32m      8\u001b[0m     \u001b[38;5;28;01mglobal\u001b[39;00m persistence \n",
      "File \u001b[0;32m~/Dropbox/Misc/ProgrammingProjects/Notifier/notifier_bot.py:17\u001b[0m\n\u001b[1;32m     13\u001b[0m \u001b[38;5;28;01mfrom\u001b[39;00m \u001b[38;5;21;01msrc\u001b[39;00m\u001b[38;5;21;01m.\u001b[39;00m\u001b[38;5;21;01mcos_product\u001b[39;00m \u001b[38;5;28;01mimport\u001b[39;00m \u001b[38;5;241m*\u001b[39m\n\u001b[1;32m     14\u001b[0m \u001b[38;5;28;01mfrom\u001b[39;00m \u001b[38;5;21;01msrc\u001b[39;00m\u001b[38;5;21;01m.\u001b[39;00m\u001b[38;5;21;01mhm_product\u001b[39;00m \u001b[38;5;28;01mimport\u001b[39;00m \u001b[38;5;241m*\u001b[39m\n\u001b[0;32m---> 17\u001b[0m \u001b[38;5;28;01mfrom\u001b[39;00m \u001b[38;5;21;01mtelegram\u001b[39;00m\u001b[38;5;21;01m.\u001b[39;00m\u001b[38;5;21;01mext\u001b[39;00m \u001b[38;5;28;01mimport\u001b[39;00m Updater, CommandHandler, MessageHandler, filters, PicklePersistence\n\u001b[1;32m     18\u001b[0m \u001b[38;5;28;01mfrom\u001b[39;00m \u001b[38;5;21;01mtelegram\u001b[39;00m \u001b[38;5;28;01mimport\u001b[39;00m InputMediaPhoto\n\u001b[1;32m     19\u001b[0m \u001b[38;5;28;01mfrom\u001b[39;00m \u001b[38;5;21;01mtelegram\u001b[39;00m\u001b[38;5;21;01m.\u001b[39;00m\u001b[38;5;21;01mutils\u001b[39;00m\u001b[38;5;21;01m.\u001b[39;00m\u001b[38;5;21;01mhelpers\u001b[39;00m \u001b[38;5;28;01mimport\u001b[39;00m escape_markdown\n",
      "File \u001b[0;32m~/.local/lib/python3.12/site-packages/telegram/__init__.py:274\u001b[0m\n\u001b[1;32m     21\u001b[0m __author__ \u001b[38;5;241m=\u001b[39m \u001b[38;5;124m\"\u001b[39m\u001b[38;5;124mdevs@python-telegram-bot.org\u001b[39m\u001b[38;5;124m\"\u001b[39m\n\u001b[1;32m     22\u001b[0m __all__ \u001b[38;5;241m=\u001b[39m (\n\u001b[1;32m     23\u001b[0m     \u001b[38;5;124m\"\u001b[39m\u001b[38;5;124mAffiliateInfo\u001b[39m\u001b[38;5;124m\"\u001b[39m,\n\u001b[1;32m     24\u001b[0m     \u001b[38;5;124m\"\u001b[39m\u001b[38;5;124mAnimation\u001b[39m\u001b[38;5;124m\"\u001b[39m,\n\u001b[0;32m   (...)\u001b[0m\n\u001b[1;32m    271\u001b[0m     \u001b[38;5;124m\"\u001b[39m\u001b[38;5;124mwarnings\u001b[39m\u001b[38;5;124m\"\u001b[39m,\n\u001b[1;32m    272\u001b[0m )\n\u001b[0;32m--> 274\u001b[0m \u001b[38;5;28;01mfrom\u001b[39;00m \u001b[38;5;21;01m.\u001b[39;00m \u001b[38;5;28;01mimport\u001b[39;00m _version, constants, error, helpers, request, warnings\n\u001b[1;32m    275\u001b[0m \u001b[38;5;28;01mfrom\u001b[39;00m \u001b[38;5;21;01m.\u001b[39;00m\u001b[38;5;21;01m_birthdate\u001b[39;00m \u001b[38;5;28;01mimport\u001b[39;00m Birthdate\n\u001b[1;32m    276\u001b[0m \u001b[38;5;28;01mfrom\u001b[39;00m \u001b[38;5;21;01m.\u001b[39;00m\u001b[38;5;21;01m_bot\u001b[39;00m \u001b[38;5;28;01mimport\u001b[39;00m Bot\n",
      "File \u001b[0;32m~/.local/lib/python3.12/site-packages/telegram/request/__init__.py:20\u001b[0m\n\u001b[1;32m      1\u001b[0m \u001b[38;5;66;03m# !/usr/bin/env python\u001b[39;00m\n\u001b[1;32m      2\u001b[0m \u001b[38;5;66;03m# A library that provides a Python interface to the Telegram Bot API\u001b[39;00m\n\u001b[1;32m      3\u001b[0m \u001b[38;5;66;03m# Copyright (C) 2015-2024\u001b[39;00m\n\u001b[0;32m   (...)\u001b[0m\n\u001b[1;32m     16\u001b[0m \u001b[38;5;66;03m# You should have received a copy of the GNU Lesser Public License\u001b[39;00m\n\u001b[1;32m     17\u001b[0m \u001b[38;5;66;03m# along with this program.  If not, see [http://www.gnu.org/licenses/].\u001b[39;00m\n\u001b[1;32m     18\u001b[0m \u001b[38;5;124;03m\"\"\"This module contains classes that handle the networking backend of ``python-telegram-bot``.\"\"\"\u001b[39;00m\n\u001b[0;32m---> 20\u001b[0m \u001b[38;5;28;01mfrom\u001b[39;00m \u001b[38;5;21;01m.\u001b[39;00m\u001b[38;5;21;01m_baserequest\u001b[39;00m \u001b[38;5;28;01mimport\u001b[39;00m BaseRequest\n\u001b[1;32m     21\u001b[0m \u001b[38;5;28;01mfrom\u001b[39;00m \u001b[38;5;21;01m.\u001b[39;00m\u001b[38;5;21;01m_httpxrequest\u001b[39;00m \u001b[38;5;28;01mimport\u001b[39;00m HTTPXRequest\n\u001b[1;32m     22\u001b[0m \u001b[38;5;28;01mfrom\u001b[39;00m \u001b[38;5;21;01m.\u001b[39;00m\u001b[38;5;21;01m_requestdata\u001b[39;00m \u001b[38;5;28;01mimport\u001b[39;00m RequestData\n",
      "File \u001b[0;32m~/.local/lib/python3.12/site-packages/telegram/request/_baserequest.py:34\u001b[0m\n\u001b[1;32m     32\u001b[0m \u001b[38;5;28;01mfrom\u001b[39;00m \u001b[38;5;21;01mtelegram\u001b[39;00m\u001b[38;5;21;01m.\u001b[39;00m\u001b[38;5;21;01m_utils\u001b[39;00m\u001b[38;5;21;01m.\u001b[39;00m\u001b[38;5;21;01mwarnings\u001b[39;00m \u001b[38;5;28;01mimport\u001b[39;00m warn\n\u001b[1;32m     33\u001b[0m \u001b[38;5;28;01mfrom\u001b[39;00m \u001b[38;5;21;01mtelegram\u001b[39;00m\u001b[38;5;21;01m.\u001b[39;00m\u001b[38;5;21;01m_version\u001b[39;00m \u001b[38;5;28;01mimport\u001b[39;00m __version__ \u001b[38;5;28;01mas\u001b[39;00m ptb_ver\n\u001b[0;32m---> 34\u001b[0m \u001b[38;5;28;01mfrom\u001b[39;00m \u001b[38;5;21;01mtelegram\u001b[39;00m\u001b[38;5;21;01m.\u001b[39;00m\u001b[38;5;21;01merror\u001b[39;00m \u001b[38;5;28;01mimport\u001b[39;00m (\n\u001b[1;32m     35\u001b[0m     BadRequest,\n\u001b[1;32m     36\u001b[0m     ChatMigrated,\n\u001b[1;32m     37\u001b[0m     Conflict,\n\u001b[1;32m     38\u001b[0m     Forbidden,\n\u001b[1;32m     39\u001b[0m     InvalidToken,\n\u001b[1;32m     40\u001b[0m     NetworkError,\n\u001b[1;32m     41\u001b[0m     RetryAfter,\n\u001b[1;32m     42\u001b[0m     TelegramError,\n\u001b[1;32m     43\u001b[0m )\n\u001b[1;32m     44\u001b[0m \u001b[38;5;28;01mfrom\u001b[39;00m \u001b[38;5;21;01mtelegram\u001b[39;00m\u001b[38;5;21;01m.\u001b[39;00m\u001b[38;5;21;01mrequest\u001b[39;00m\u001b[38;5;21;01m.\u001b[39;00m\u001b[38;5;21;01m_requestdata\u001b[39;00m \u001b[38;5;28;01mimport\u001b[39;00m RequestData\n\u001b[1;32m     45\u001b[0m \u001b[38;5;28;01mfrom\u001b[39;00m \u001b[38;5;21;01mtelegram\u001b[39;00m\u001b[38;5;21;01m.\u001b[39;00m\u001b[38;5;21;01mwarnings\u001b[39;00m \u001b[38;5;28;01mimport\u001b[39;00m PTBDeprecationWarning\n",
      "\u001b[0;31mImportError\u001b[0m: cannot import name 'Forbidden' from 'telegram.error' (/home/johannes/.local/lib/python3.12/site-packages/telegram/error.py)"
     ]
    }
   ],
   "source": [
    "# %load notifier_main.py\n",
    "from notifier_bot import *\n",
    "\n",
    "def main():\n",
    "\n",
    "    # The bot's internal state is saved between restarts, allowing to preseve \n",
    "    # items saved by users \n",
    "    global persistence \n",
    "    persistence = PicklePersistence(filename =\\\n",
    "            '/home/ubuntu/Notifier/persistence.dat')\n",
    "\n",
    "    # The bot's token (see the telegram-bot documentation) is stored in \n",
    "    # a configuration file\n",
    "    with open('config/bot_token.txt', 'r') as file:\n",
    "        bot_token = file.read().replace('\\n', '')\n",
    "\n",
    "    # Users need to be whitelisted in order to access the bot's functions; \n",
    "    # this works by loading a list of telegram user handles from a textfile\n",
    "    with open('config/allowed_users.txt', 'r') as file:\n",
    "        allowed_users = [line.rstrip() for line in file]\n",
    "    user_filter = Filters.user(username = allowed_users)\n",
    "\n",
    "    global updater\n",
    "    updater = Updater(token=bot_token, use_context=True, \n",
    "                persistence=persistence)\n",
    "\n",
    "    dispatcher = updater.dispatcher\n",
    "    job_queue = updater.job_queue\n",
    "\n",
    "    addHandler = CommandHandler('add', add, user_filter)\n",
    "    removeHandler = CommandHandler('remove', remove)\n",
    "    listTrackedHandler = CommandHandler('list', list_tracked_items)\n",
    "    HelpHandler = CommandHandler('help', help)\n",
    "    MsgHandler = CommandHandler('msg', msg)\n",
    "    StartHandler = CommandHandler('start', help)\n",
    "    EmptyHandler = CommandHandler('empty', empty)\n",
    "    ExplUpdateHandler = CommandHandler('update', manual_update)\n",
    "    StartRegUpdateHandler = CommandHandler('monitor', \n",
    "            start_regular_update, pass_job_queue=True)\n",
    "    StopRegUpdateHandler = CommandHandler('stop_monitor', \n",
    "            stop_regular_update, pass_job_queue=True)\n",
    "    BackupHandler = CommandHandler('backup', backup_to_json, user_filter)\n",
    "    RestoreHandler = CommandHandler('restore', restore_from_online_json, user_filter)\n",
    "    logHandler = CommandHandler('logs', send_logs)\n",
    "\n",
    "    infoHandler = CommandHandler('info', command_item_info)\n",
    "    InfoHandler = CommandHandler('Info', command_item_info)\n",
    "    defaultHandler = MessageHandler(Filters.text & ~Filters.command, default_item_info)\n",
    "\n",
    "    dispatcher.add_handler(addHandler)\n",
    "    dispatcher.add_handler(removeHandler)\n",
    "    dispatcher.add_handler(listTrackedHandler)\n",
    "    dispatcher.add_handler(HelpHandler)\n",
    "    dispatcher.add_handler(MsgHandler)\n",
    "    dispatcher.add_handler(StartHandler)\n",
    "    dispatcher.add_handler(ExplUpdateHandler)\n",
    "    dispatcher.add_handler(EmptyHandler)\n",
    "    dispatcher.add_handler(StartRegUpdateHandler)\n",
    "    dispatcher.add_handler(StopRegUpdateHandler)\n",
    "    dispatcher.add_handler(BackupHandler)\n",
    "    dispatcher.add_handler(RestoreHandler)\n",
    "    dispatcher.add_handler(logHandler)\n",
    "    dispatcher.add_handler(infoHandler)\n",
    "    dispatcher.add_handler(InfoHandler)\n",
    "    dispatcher.add_handler(defaultHandler)\n",
    "\n",
    "    updater.start_polling()\n",
    "\n",
    "    logging.info(\"Started bot \" + str(datetime.now()))\n",
    "\n",
    "def end():\n",
    "    persistence.flush()\n",
    "    updater.stop()\n",
    "\n",
    "if __name__ == \"__main__\":\n",
    "    main()\n"
   ]
  },
  {
   "cell_type": "code",
   "execution_count": 3,
   "metadata": {},
   "outputs": [],
   "source": [
    "end()"
   ]
  },
  {
   "cell_type": "code",
   "execution_count": null,
   "metadata": {},
   "outputs": [],
   "source": []
  }
 ],
 "metadata": {
  "kernelspec": {
   "display_name": "Python 3 (ipykernel)",
   "language": "python",
   "name": "python3"
  },
  "language_info": {
   "codemirror_mode": {
    "name": "ipython",
    "version": 3
   },
   "file_extension": ".py",
   "mimetype": "text/x-python",
   "name": "python",
   "nbconvert_exporter": "python",
   "pygments_lexer": "ipython3",
   "version": "3.12.3"
  }
 },
 "nbformat": 4,
 "nbformat_minor": 4
}
