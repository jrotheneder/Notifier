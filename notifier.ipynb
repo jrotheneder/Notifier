{
 "cells": [
  {
   "cell_type": "code",
   "execution_count": 1,
   "metadata": {},
   "outputs": [
    {
     "ename": "ModuleNotFoundError",
     "evalue": "No module named 'product'",
     "output_type": "error",
     "traceback": [
      "\u001b[0;31m---------------------------------------------------------------------------\u001b[0m",
      "\u001b[0;31mModuleNotFoundError\u001b[0m                       Traceback (most recent call last)",
      "Cell \u001b[0;32mIn[1], line 2\u001b[0m\n\u001b[1;32m      1\u001b[0m \u001b[38;5;66;03m# %load notifier_main.py\u001b[39;00m\n\u001b[0;32m----> 2\u001b[0m \u001b[38;5;28;01mfrom\u001b[39;00m \u001b[38;5;21;01mnotifier_bot\u001b[39;00m \u001b[38;5;28;01mimport\u001b[39;00m \u001b[38;5;241m*\u001b[39m\n\u001b[1;32m      4\u001b[0m \u001b[38;5;28;01mdef\u001b[39;00m \u001b[38;5;21mmain\u001b[39m():\n\u001b[1;32m      5\u001b[0m \n\u001b[1;32m      6\u001b[0m     \u001b[38;5;66;03m# The bot's internal state is saved between restarts, allowing to preseve \u001b[39;00m\n\u001b[1;32m      7\u001b[0m     \u001b[38;5;66;03m# items saved by users \u001b[39;00m\n\u001b[1;32m      8\u001b[0m     \u001b[38;5;28;01mglobal\u001b[39;00m persistence \n",
      "File \u001b[0;32m~/Notifier/notifier_bot.py:2\u001b[0m\n\u001b[1;32m      1\u001b[0m \u001b[38;5;28;01mfrom\u001b[39;00m \u001b[38;5;21;01mexceptions\u001b[39;00m \u001b[38;5;28;01mimport\u001b[39;00m \u001b[38;5;241m*\u001b[39m \n\u001b[0;32m----> 2\u001b[0m \u001b[38;5;28;01mfrom\u001b[39;00m \u001b[38;5;21;01msrc\u001b[39;00m\u001b[38;5;21;01m.\u001b[39;00m\u001b[38;5;21;01mzara_product\u001b[39;00m \u001b[38;5;28;01mimport\u001b[39;00m \u001b[38;5;241m*\u001b[39m\n\u001b[1;32m      3\u001b[0m \u001b[38;5;28;01mfrom\u001b[39;00m \u001b[38;5;21;01msrc\u001b[39;00m\u001b[38;5;21;01m.\u001b[39;00m\u001b[38;5;21;01mzalando_product\u001b[39;00m \u001b[38;5;28;01mimport\u001b[39;00m \u001b[38;5;241m*\u001b[39m\n\u001b[1;32m      4\u001b[0m \u001b[38;5;28;01mfrom\u001b[39;00m \u001b[38;5;21;01msrc\u001b[39;00m\u001b[38;5;21;01m.\u001b[39;00m\u001b[38;5;21;01muniqlo_product\u001b[39;00m \u001b[38;5;28;01mimport\u001b[39;00m \u001b[38;5;241m*\u001b[39m\n",
      "File \u001b[0;32m~/Notifier/src/zara_product.py:1\u001b[0m\n\u001b[0;32m----> 1\u001b[0m \u001b[38;5;28;01mfrom\u001b[39;00m \u001b[38;5;21;01mproduct\u001b[39;00m \u001b[38;5;28;01mimport\u001b[39;00m Product\n\u001b[1;32m      2\u001b[0m \u001b[38;5;28;01mfrom\u001b[39;00m \u001b[38;5;21;01mzara_scraper\u001b[39;00m \u001b[38;5;28;01mimport\u001b[39;00m ZaraScraper\n\u001b[1;32m      4\u001b[0m \u001b[38;5;28;01mfrom\u001b[39;00m \u001b[38;5;21;01mexceptions\u001b[39;00m \u001b[38;5;28;01mimport\u001b[39;00m \u001b[38;5;241m*\u001b[39m\n",
      "\u001b[0;31mModuleNotFoundError\u001b[0m: No module named 'product'"
     ]
    }
   ],
   "source": [
    "# %load notifier_main.py\n",
    "from notifier_bot import *\n",
    "\n",
    "def main():\n",
    "\n",
    "    # The bot's internal state is saved between restarts, allowing to preseve \n",
    "    # items saved by users \n",
    "    global persistence \n",
    "    persistence = PicklePersistence(filename =\\\n",
    "            '/home/ubuntu/Notifier/persistence.dat')\n",
    "\n",
    "    # The bot's token (see the telegram-bot documentation) is stored in \n",
    "    # a configuration file\n",
    "    with open('config/bot_token.txt', 'r') as file:\n",
    "        bot_token = file.read().replace('\\n', '')\n",
    "\n",
    "    # Users need to be whitelisted in order to access the bot's functions; \n",
    "    # this works by loading a list of telegram user handles from a textfile\n",
    "    with open('config/allowed_users.txt', 'r') as file:\n",
    "        allowed_users = [line.rstrip() for line in file]\n",
    "    user_filter = Filters.user(username = allowed_users)\n",
    "\n",
    "    global updater\n",
    "    updater = Updater(token=bot_token, use_context=True, \n",
    "                persistence=persistence)\n",
    "\n",
    "    dispatcher = updater.dispatcher\n",
    "    job_queue = updater.job_queue\n",
    "\n",
    "    addHandler = CommandHandler('add', add, user_filter)\n",
    "    removeHandler = CommandHandler('remove', remove)\n",
    "    listTrackedHandler = CommandHandler('list', list_tracked_items)\n",
    "    HelpHandler = CommandHandler('help', help)\n",
    "    MsgHandler = CommandHandler('msg', msg)\n",
    "    StartHandler = CommandHandler('start', help)\n",
    "    EmptyHandler = CommandHandler('empty', empty)\n",
    "    ExplUpdateHandler = CommandHandler('update', manual_update)\n",
    "    StartRegUpdateHandler = CommandHandler('monitor', \n",
    "            start_regular_update, pass_job_queue=True)\n",
    "    StopRegUpdateHandler = CommandHandler('stop_monitor', \n",
    "            stop_regular_update, pass_job_queue=True)\n",
    "    BackupHandler = CommandHandler('backup', backup_to_json, user_filter)\n",
    "    RestoreHandler = CommandHandler('restore', restore_from_online_json, user_filter)\n",
    "    logHandler = CommandHandler('logs', send_logs)\n",
    "\n",
    "    infoHandler = CommandHandler('info', command_item_info)\n",
    "    InfoHandler = CommandHandler('Info', command_item_info)\n",
    "    defaultHandler = MessageHandler(Filters.text & ~Filters.command, default_item_info)\n",
    "\n",
    "    dispatcher.add_handler(addHandler)\n",
    "    dispatcher.add_handler(removeHandler)\n",
    "    dispatcher.add_handler(listTrackedHandler)\n",
    "    dispatcher.add_handler(HelpHandler)\n",
    "    dispatcher.add_handler(MsgHandler)\n",
    "    dispatcher.add_handler(StartHandler)\n",
    "    dispatcher.add_handler(ExplUpdateHandler)\n",
    "    dispatcher.add_handler(EmptyHandler)\n",
    "    dispatcher.add_handler(StartRegUpdateHandler)\n",
    "    dispatcher.add_handler(StopRegUpdateHandler)\n",
    "    dispatcher.add_handler(BackupHandler)\n",
    "    dispatcher.add_handler(RestoreHandler)\n",
    "    dispatcher.add_handler(logHandler)\n",
    "    dispatcher.add_handler(infoHandler)\n",
    "    dispatcher.add_handler(InfoHandler)\n",
    "    dispatcher.add_handler(defaultHandler)\n",
    "\n",
    "    updater.start_polling()\n",
    "\n",
    "    logging.info(\"Started bot \" + str(datetime.now()))\n",
    "\n",
    "def end():\n",
    "    persistence.flush()\n",
    "    updater.stop()\n",
    "\n",
    "if __name__ == \"__main__\":\n",
    "    main()\n"
   ]
  },
  {
   "cell_type": "code",
   "execution_count": 2,
   "metadata": {},
   "outputs": [],
   "source": [
    "end()"
   ]
  },
  {
   "cell_type": "markdown",
   "metadata": {},
   "source": []
  }
 ],
 "metadata": {
  "kernelspec": {
   "display_name": "Python 3 (ipykernel)",
   "language": "python",
   "name": "python3"
  },
  "language_info": {
   "codemirror_mode": {
    "name": "ipython",
    "version": 3
   },
   "file_extension": ".py",
   "mimetype": "text/x-python",
   "name": "python",
   "nbconvert_exporter": "python",
   "pygments_lexer": "ipython3",
   "version": "3.10.12"
  }
 },
 "nbformat": 4,
 "nbformat_minor": 4
}
